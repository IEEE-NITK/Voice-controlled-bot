{
 "cells": [
  {
   "cell_type": "code",
   "execution_count": 1,
   "metadata": {
    "scrolled": true
   },
   "outputs": [
    {
     "name": "stdout",
     "output_type": "stream",
     "text": [
      "\u001b[33mThe directory '/home/varshini/.cache/pip/http' or its parent directory is not owned by the current user and the cache has been disabled. Please check the permissions and owner of that directory. If executing pip with sudo, you may want sudo's -H flag.\u001b[0m\r\n",
      "\u001b[33mThe directory '/home/varshini/.cache/pip' or its parent directory is not owned by the current user and caching wheels has been disabled. check the permissions and owner of that directory. If executing pip with sudo, you may want sudo's -H flag.\u001b[0m\r\n",
      "Requirement already satisfied: numpy in /usr/local/lib/python3.6/dist-packages\r\n"
     ]
    }
   ],
   "source": [
    "#from __future__ import division\n",
    "import sys\n",
    "!{sys.executable} -m pip install numpy"
   ]
  },
  {
   "cell_type": "code",
   "execution_count": 2,
   "metadata": {},
   "outputs": [
    {
     "ename": "ModuleNotFoundError",
     "evalue": "No module named 'python_speech_features'",
     "output_type": "error",
     "traceback": [
      "\u001b[0;31m---------------------------------------------------------------------------\u001b[0m",
      "\u001b[0;31mModuleNotFoundError\u001b[0m                       Traceback (most recent call last)",
      "\u001b[0;32m<ipython-input-2-16cdd55093a8>\u001b[0m in \u001b[0;36m<module>\u001b[0;34m()\u001b[0m\n\u001b[1;32m      1\u001b[0m \u001b[0;32mfrom\u001b[0m \u001b[0m__future__\u001b[0m \u001b[0;32mimport\u001b[0m \u001b[0mdivision\u001b[0m\u001b[0;34m\u001b[0m\u001b[0;34m\u001b[0m\u001b[0m\n\u001b[1;32m      2\u001b[0m \u001b[0;32mimport\u001b[0m \u001b[0mnumpy\u001b[0m\u001b[0;34m\u001b[0m\u001b[0;34m\u001b[0m\u001b[0m\n\u001b[0;32m----> 3\u001b[0;31m \u001b[0;32mfrom\u001b[0m \u001b[0mpython_speech_features\u001b[0m \u001b[0;32mimport\u001b[0m \u001b[0msigproc\u001b[0m\u001b[0;34m\u001b[0m\u001b[0;34m\u001b[0m\u001b[0m\n\u001b[0m\u001b[1;32m      4\u001b[0m \u001b[0;32mfrom\u001b[0m \u001b[0mscipy\u001b[0m\u001b[0;34m.\u001b[0m\u001b[0mfftpack\u001b[0m \u001b[0;32mimport\u001b[0m \u001b[0mdct\u001b[0m\u001b[0;34m\u001b[0m\u001b[0;34m\u001b[0m\u001b[0m\n",
      "\u001b[0;31mModuleNotFoundError\u001b[0m: No module named 'python_speech_features'"
     ]
    }
   ],
   "source": [
    "\n",
    "import numpy\n",
    "from python_speech_features import sigproc\n",
    "from scipy.fftpack import dct"
   ]
  },
  {
   "cell_type": "code",
   "execution_count": 3,
   "metadata": {},
   "outputs": [
    {
     "name": "stdout",
     "output_type": "stream",
     "text": [
      "\u001b[33mThe directory '/home/varshini/.cache/pip/http' or its parent directory is not owned by the current user and the cache has been disabled. Please check the permissions and owner of that directory. If executing pip with sudo, you may want sudo's -H flag.\u001b[0m\n",
      "\u001b[33mThe directory '/home/varshini/.cache/pip' or its parent directory is not owned by the current user and caching wheels has been disabled. check the permissions and owner of that directory. If executing pip with sudo, you may want sudo's -H flag.\u001b[0m\n",
      "Collecting python_speech_features\n",
      "  Downloading https://files.pythonhosted.org/packages/ff/d1/94c59e20a2631985fbd2124c45177abaa9e0a4eee8ba8a305aa26fc02a8e/python_speech_features-0.6.tar.gz\n",
      "Installing collected packages: python-speech-features\n",
      "  Running setup.py install for python-speech-features ... \u001b[?25ldone\n",
      "\u001b[?25hSuccessfully installed python-speech-features-0.6\n"
     ]
    }
   ],
   "source": [
    "!{sys.executable} -m pip install python_speech_features"
   ]
  },
  {
   "cell_type": "code",
   "execution_count": 4,
   "metadata": {},
   "outputs": [
    {
     "name": "stdout",
     "output_type": "stream",
     "text": [
      "\u001b[33mThe directory '/home/varshini/.cache/pip/http' or its parent directory is not owned by the current user and the cache has been disabled. Please check the permissions and owner of that directory. If executing pip with sudo, you may want sudo's -H flag.\u001b[0m\n",
      "\u001b[33mThe directory '/home/varshini/.cache/pip' or its parent directory is not owned by the current user and caching wheels has been disabled. check the permissions and owner of that directory. If executing pip with sudo, you may want sudo's -H flag.\u001b[0m\n",
      "Collecting scipy.fftpack\n",
      "\u001b[31m  Could not find a version that satisfies the requirement scipy.fftpack (from versions: )\u001b[0m\n",
      "\u001b[31mNo matching distribution found for scipy.fftpack\u001b[0m\n"
     ]
    }
   ],
   "source": [
    "!{sys.executable} -m pip install scipy.fftpack"
   ]
  },
  {
   "cell_type": "code",
   "execution_count": 5,
   "metadata": {},
   "outputs": [
    {
     "ename": "ModuleNotFoundError",
     "evalue": "No module named 'scipy'",
     "output_type": "error",
     "traceback": [
      "\u001b[0;31m---------------------------------------------------------------------------\u001b[0m",
      "\u001b[0;31mModuleNotFoundError\u001b[0m                       Traceback (most recent call last)",
      "\u001b[0;32m<ipython-input-5-629ab1b17320>\u001b[0m in \u001b[0;36m<module>\u001b[0;34m()\u001b[0m\n\u001b[0;32m----> 1\u001b[0;31m \u001b[0;32mfrom\u001b[0m \u001b[0mpython_speech_features\u001b[0m \u001b[0;32mimport\u001b[0m \u001b[0msigproc\u001b[0m\u001b[0;34m\u001b[0m\u001b[0;34m\u001b[0m\u001b[0m\n\u001b[0m\u001b[1;32m      2\u001b[0m \u001b[0;32mfrom\u001b[0m \u001b[0mscipy\u001b[0m\u001b[0;34m.\u001b[0m\u001b[0mfftpack\u001b[0m \u001b[0;32mimport\u001b[0m \u001b[0mdct\u001b[0m\u001b[0;34m\u001b[0m\u001b[0;34m\u001b[0m\u001b[0m\n",
      "\u001b[0;32m/usr/local/lib/python3.6/dist-packages/python_speech_features/__init__.py\u001b[0m in \u001b[0;36m<module>\u001b[0;34m()\u001b[0m\n\u001b[0;32m----> 1\u001b[0;31m \u001b[0;32mfrom\u001b[0m \u001b[0;34m.\u001b[0m\u001b[0mbase\u001b[0m \u001b[0;32mimport\u001b[0m \u001b[0;34m*\u001b[0m\u001b[0;34m\u001b[0m\u001b[0;34m\u001b[0m\u001b[0m\n\u001b[0m",
      "\u001b[0;32m/usr/local/lib/python3.6/dist-packages/python_speech_features/base.py\u001b[0m in \u001b[0;36m<module>\u001b[0;34m()\u001b[0m\n\u001b[1;32m      4\u001b[0m \u001b[0;32mimport\u001b[0m \u001b[0mnumpy\u001b[0m\u001b[0;34m\u001b[0m\u001b[0;34m\u001b[0m\u001b[0m\n\u001b[1;32m      5\u001b[0m \u001b[0;32mfrom\u001b[0m \u001b[0mpython_speech_features\u001b[0m \u001b[0;32mimport\u001b[0m \u001b[0msigproc\u001b[0m\u001b[0;34m\u001b[0m\u001b[0;34m\u001b[0m\u001b[0m\n\u001b[0;32m----> 6\u001b[0;31m \u001b[0;32mfrom\u001b[0m \u001b[0mscipy\u001b[0m\u001b[0;34m.\u001b[0m\u001b[0mfftpack\u001b[0m \u001b[0;32mimport\u001b[0m \u001b[0mdct\u001b[0m\u001b[0;34m\u001b[0m\u001b[0;34m\u001b[0m\u001b[0m\n\u001b[0m\u001b[1;32m      7\u001b[0m \u001b[0;34m\u001b[0m\u001b[0m\n\u001b[1;32m      8\u001b[0m def mfcc(signal,samplerate=16000,winlen=0.025,winstep=0.01,numcep=13,\n",
      "\u001b[0;31mModuleNotFoundError\u001b[0m: No module named 'scipy'"
     ]
    }
   ],
   "source": [
    "from python_speech_features import sigproc\n",
    "from scipy.fftpack import dct"
   ]
  },
  {
   "cell_type": "code",
   "execution_count": 6,
   "metadata": {},
   "outputs": [
    {
     "name": "stdout",
     "output_type": "stream",
     "text": [
      "\u001b[33mThe directory '/home/varshini/.cache/pip/http' or its parent directory is not owned by the current user and the cache has been disabled. Please check the permissions and owner of that directory. If executing pip with sudo, you may want sudo's -H flag.\u001b[0m\n",
      "\u001b[33mThe directory '/home/varshini/.cache/pip' or its parent directory is not owned by the current user and caching wheels has been disabled. check the permissions and owner of that directory. If executing pip with sudo, you may want sudo's -H flag.\u001b[0m\n",
      "Collecting scipy\n",
      "  Downloading https://files.pythonhosted.org/packages/a8/0b/f163da98d3a01b3e0ef1cab8dd2123c34aee2bafbb1c5bffa354cc8a1730/scipy-1.1.0-cp36-cp36m-manylinux1_x86_64.whl (31.2MB)\n",
      "\u001b[K    100% |████████████████████████████████| 31.2MB 32kB/s eta 0:00:011  23% |███████▍                        | 7.2MB 7.1MB/s eta 0:00:04    36% |███████████▉                    | 11.5MB 4.7MB/s eta 0:00:05\n",
      "\u001b[?25hRequirement already satisfied: numpy>=1.8.2 in /usr/local/lib/python3.6/dist-packages (from scipy)\n",
      "Installing collected packages: scipy\n",
      "Successfully installed scipy-1.1.0\n"
     ]
    }
   ],
   "source": [
    "!{sys.executable} -m pip install scipy"
   ]
  },
  {
   "cell_type": "code",
   "execution_count": 7,
   "metadata": {},
   "outputs": [],
   "source": [
    "from python_speech_features import sigproc\n",
    "from scipy.fftpack import dct"
   ]
  },
  {
   "cell_type": "code",
   "execution_count": 34,
   "metadata": {},
   "outputs": [],
   "source": [
    "def mfcc(signal, samplerate=16000, winlen=0.025, winstep=0.01, numcep=13, nfilt=26, nfft=512, lowfreq=0, highfreq=None,preemph=0.97,ceplifter=22, appendEnergy=True, winfunc=lambda x:numpy.ones((x,))):\n",
    "    feat, energy = fbank(signal,samplerate,winlen,winstep,nfilt,nfft,lowfreq,highfreq,preemph,winfunc)\n",
    "    feat = numpy.log(feat)\n",
    "    feat = dct(feat, type=2, axis=1, norm='ortho')[:,:numcep]#To store only the first 13 filter coefficients\n",
    "    feat=lifter(feat,ceplifter)\n",
    "    if appendEnergy:\n",
    "        feat[:,0] = numpy.log(energy) #Replacing first cepstral coefficient with log of frame energy\n",
    "    return feat"
   ]
  },
  {
   "cell_type": "code",
   "execution_count": 9,
   "metadata": {},
   "outputs": [],
   "source": [
    "def fbank(signal, samplerate=16000, winlen=0.025, winstep=0.01, nfilt=26, nfft=512, lowfreq=0, highfreq=None, preemph=0.97, winfunc=lambda x:numpy.ones((x,))):\n",
    "    highfreq = highfreq or samplerate/2\n",
    "    signal = sigproc.preemphasis(signal, preemph)\n",
    "    frames = sigproc.framesig(signal, winlen*samplerate, winstep*samplerate, winfunc)\n",
    "    pspec = sigproc.powspec(frames, nfft)\n",
    "    energy = numpy.sum(pspec,1)#Stores energy in each frame\n",
    "    energy = numpy.where(energy==0,numpy.finfo(float).eps,energy)\n",
    "    \n",
    "    fb = get_filterbanks(nfilt, nfft, samplerate, lowfreq, highfreq)\n",
    "    feat = numpy.dot(pspec, fb.T) #Compute filterbank energies\n",
    "    feat = numpy.where(feat==0, numpy.finfo(float).eps, feat)\n",
    "    \n",
    "    return feat, energy"
   ]
  },
  {
   "cell_type": "code",
   "execution_count": 10,
   "metadata": {},
   "outputs": [],
   "source": [
    "def logfbank(signal, samplerate=16000, winlen=0.025, winstep=0.01, nfilt=26,nfft=512, lowfreq=0, highfreq=None, preemph=0.97, winfunc=lambda x:numpy.ones((x,))):\n",
    "    feat, energy = fbank(signal, samplerate, winlen, winstep, nfilt, nfft, lowfreq, highfreq, preemph, winfunc)\n",
    "    return numpy.log(feat)"
   ]
  },
  {
   "cell_type": "code",
   "execution_count": 15,
   "metadata": {},
   "outputs": [],
   "source": [
    "def ssc(signal, samplerate=16000, winlen=0.025, winstep=0.01,nfilt=26,nfft=512,lowfreq=0,highfreq=None,preemph=0.97,winfunc=lambda x:numpy.ones((x,))):\n",
    "    signal = sigproc.preemphasis(signal,preemph)\n",
    "    frames = sigproc.framesig(signal, winlen*samplerate, winstep*samplerate, winfunc)\n",
    "    pspec = sigproc.powspec(frames,nfft)\n",
    "    pspec = numpy.where(pspec == 0,numpy.finfo(float).eps,pspec) # if things are all zeros we get problems\n",
    "\n",
    "    fb = get_filterbanks(nfilt,nfft,samplerate,lowfreq,highfreq)\n",
    "    feat = numpy.dot(pspec,fb.T) # compute the filterbank energies\n",
    "    R = numpy.tile(numpy.linspace(1,samplerate/2,numpy.size(pspec,1)),(numpy.size(pspec,0),1))\n",
    "\n",
    "    return numpy.dot(pspec*R,fb.T) / feat"
   ]
  },
  {
   "cell_type": "code",
   "execution_count": 16,
   "metadata": {},
   "outputs": [],
   "source": [
    "def hz2mel(hz):\n",
    "    return 2595*numpy.log10(1+hz/700.)"
   ]
  },
  {
   "cell_type": "code",
   "execution_count": 17,
   "metadata": {},
   "outputs": [],
   "source": [
    "def mel2hz(mel):\n",
    "    return 700*(10**(mel/2595.0)-1)"
   ]
  },
  {
   "cell_type": "code",
   "execution_count": 18,
   "metadata": {},
   "outputs": [],
   "source": [
    "def get_filterbanks(nfilt=20, nfft=512, samplerate=16000, lowfreq=0, highfreq=None):\n",
    "    highfreq=highfreq or samplerate/2\n",
    "    assert highfreq<=samplerate/2, \"highfreq is greater than samplerate/2\"\n",
    "    \n",
    "    lowmel=hz2mel(lowfreq)\n",
    "    highmel=hz2mel(highfreq)\n",
    "    melpoints=numpy.linspace(lowmel, highmel, nfilt+2)\n",
    "    #Convert from Hz to FFT bin number\n",
    "    bin = numpy.floor((nfft+1)*mel2hz(melpoints)/samplerate)\n",
    "    \n",
    "    fbank = numpy.zeros([nfilt,nfft//2+1])\n",
    "    for j in range(0,nfilt):\n",
    "        for i in range(int(bin[j]),int(bin[j+1])):\n",
    "            fbank[j,i] = (i-bin[j])/(bin[j+1]-bin[j])\n",
    "        for i in range(int(bin[j+1]), int(bin[j+2])):\n",
    "            fbank[j,i] = (bin[j+2]-i)/(bin[j+2]-bin[j+1])\n",
    "    return fbank"
   ]
  },
  {
   "cell_type": "code",
   "execution_count": 19,
   "metadata": {},
   "outputs": [],
   "source": [
    "def lifter(cepstra, L=22):\n",
    "    if L>0:\n",
    "        nframes,ncoeff = numpy.shape(cepstra)\n",
    "        n = numpy.arange(ncoeff)\n",
    "        lift = 1+(L/2.)*numpy.sin(numpy.pi*n/L)\n",
    "        return lift*cepstra\n",
    "    \n",
    "    else:\n",
    "        return cepstra"
   ]
  },
  {
   "cell_type": "code",
   "execution_count": 20,
   "metadata": {},
   "outputs": [],
   "source": [
    "def delta(feat, N):\n",
    "    if N<1:\n",
    "        raise ValueError('N must be an integer>=1')\n",
    "    NUMFRAMES = len(feat)\n",
    "    denominator = 2*sum([i**2 for i in range(1,N+1)])\n",
    "    delta_feat = numpy.empty_like(feat)\n",
    "    padded = numpy.pad(feat,((N,N),(0,0)),mode='edge')\n",
    "    for t in range(NUMFRAMES):\n",
    "        delta_feat[t] = numpy.dot(numpy.arange(-N,N+1), padded[t:t+2*N+1])/denominator\n",
    "    return delta_feat\n",
    "        "
   ]
  },
  {
   "cell_type": "code",
   "execution_count": 21,
   "metadata": {},
   "outputs": [],
   "source": [
    "import decimal\n",
    "import math\n",
    "import logging"
   ]
  },
  {
   "cell_type": "code",
   "execution_count": 22,
   "metadata": {},
   "outputs": [],
   "source": [
    "def round_half_up(number):\n",
    "    return int(decimal.Decimal(number).quantize(decimal.Decimal('1'),rounding=decimal.ROUND_HALF_UP))\n"
   ]
  },
  {
   "cell_type": "code",
   "execution_count": 23,
   "metadata": {},
   "outputs": [],
   "source": [
    "def rolling_window(a, window, step=1):\n",
    "    shape = a.shape[:-1]+(a.shape[-1]-window+1, window)\n",
    "    strides = a.strides+(a.strides[-1],)\n",
    "    return numpy.lib.stride_tricks.as_strided(a,shape=shape,strides=strides)[::step]"
   ]
  },
  {
   "cell_type": "code",
   "execution_count": 25,
   "metadata": {},
   "outputs": [],
   "source": [
    "def framesig(sig, frame_len, frame_step, winfunc=lambda x:numpy.ones((x,)),stride_trick=True):\n",
    "    slen=len(sig)\n",
    "    frame_len=int(round_half_up(frame_len))\n",
    "    frame_step=int(round_half_up(frame_step))\n",
    "    if slen<=frame_len:\n",
    "        numframes=1\n",
    "    else:\n",
    "        numframes=1+int(math.ceil((1.0*slen-frame_len)/frame_step))\n",
    "        \n",
    "    padlen = int((numframes-1)*frame_step+frame_len)\n",
    "    \n",
    "    zeros=numpy.zeros((padlen-slen,))\n",
    "    padsignal=numpy.concatenate((sig,zeros))\n",
    "    if stride_trick:\n",
    "        win=winfunc(frame_len)\n",
    "        frames=rolling_window(padsignal,window=frame_len,step=frame_step)\n",
    "    else:\n",
    "        indices = numpy.tile(numpy.arange(0, frame_len), (numframes, 1)) + numpy.tile(numpy.arange(0, numframes * frame_step, frame_step), (frame_len, 1)).T\n",
    "        indices = numpy.array(indices, dtype=numpy.int32)\n",
    "        frames = padsignal[indices]\n",
    "        win = numpy.tile(winfunc(frame_len), (numframes, 1))\n",
    "    return frames*win"
   ]
  },
  {
   "cell_type": "code",
   "execution_count": 26,
   "metadata": {},
   "outputs": [],
   "source": [
    "def deframesig(frames, siglen, frame_len, frame_step, winfunc=lambda x:numpy.ones((x,))):\n",
    "    frame_len = round_half_up(frame_len)\n",
    "    frame_step = round_half_up(frame_step)\n",
    "    numframes = numpy.shape(frames)[0]\n",
    "    assert numpy.shape(frames)[1] == frame_len, '\"frames\" matrix is wrong size, 2nd dim is not equal to frame_len'\n",
    "\n",
    "    indices = numpy.tile(numpy.arange(0, frame_len), (numframes, 1)) + numpy.tile(\n",
    "        numpy.arange(0, numframes * frame_step, frame_step), (frame_len, 1)).T\n",
    "    indices = numpy.array(indices, dtype=numpy.int32)\n",
    "    padlen = (numframes - 1) * frame_step + frame_len\n",
    "\n",
    "    if siglen <= 0: siglen = padlen\n",
    "\n",
    "    rec_signal = numpy.zeros((padlen,))\n",
    "    window_correction = numpy.zeros((padlen,))\n",
    "    win = winfunc(frame_len)\n",
    "\n",
    "    for i in range(0, numframes):\n",
    "        window_correction[indices[i, :]] = window_correction[\n",
    "                                               indices[i, :]] + win + 1e-15  # add a little bit so it is never zero\n",
    "        rec_signal[indices[i, :]] = rec_signal[indices[i, :]] + frames[i, :]\n",
    "\n",
    "    rec_signal = rec_signal / window_correction\n",
    "    return rec_signal[0:siglen]"
   ]
  },
  {
   "cell_type": "code",
   "execution_count": 27,
   "metadata": {},
   "outputs": [],
   "source": [
    "def magspec(frames, NFFT):\n",
    "    if numpy.shape(frames)[1]>NFFT:\n",
    "        logging.warn('frame length (%d) is greater than FFT size (%d), frame will be truncated. Increase NFFT to avoid.',numpy.shape(frames)[1], NFFT)\n",
    "        complex_spec = numpy.fft.rfft(frames, NFFT)\n",
    "        return numpy.absolute(complex_spec)"
   ]
  },
  {
   "cell_type": "code",
   "execution_count": 28,
   "metadata": {},
   "outputs": [],
   "source": [
    "def powspec(frames, NFFT):\n",
    "    return 1.0/NFFT*numpy.square(magspec(frames, NFFT))"
   ]
  },
  {
   "cell_type": "code",
   "execution_count": 30,
   "metadata": {},
   "outputs": [],
   "source": [
    "def logpowspec(frames,NFFT,norm=1):\n",
    "    ps=powspec(frames, NFFT)\n",
    "    ps[ps<=1e-30]=1e-30\n",
    "    lps=10*numpy.log10(ps)\n",
    "    if norm:\n",
    "        return lps-numpy.max(lps)\n",
    "    else:\n",
    "        return lps"
   ]
  },
  {
   "cell_type": "code",
   "execution_count": 31,
   "metadata": {},
   "outputs": [],
   "source": [
    "def preemphasis(signal,coeff=0.95):\n",
    "    return numpy.append(signal[0], signal[1:]-coeff*signal[:-1])"
   ]
  },
  {
   "cell_type": "code",
   "execution_count": 32,
   "metadata": {},
   "outputs": [],
   "source": [
    "import scipy.io.wavfile as wav"
   ]
  },
  {
   "cell_type": "code",
   "execution_count": 35,
   "metadata": {},
   "outputs": [
    {
     "name": "stdout",
     "output_type": "stream",
     "text": [
      "[[ 7.31980869  7.78864759  8.42487588  8.49527852  8.63043262  8.87487021\n",
      "   9.6229585   9.41699154  9.83313432 10.3540489  11.10170434 11.71867703\n",
      "  11.41783178 11.89420804 11.65078413 13.34874206 13.87114465 13.68725636\n",
      "  12.35856915 12.20042134 12.78460616 12.41508887 11.98950662 11.59510427\n",
      "  11.39142357 11.13869419]\n",
      " [ 9.05419707  9.48662175 10.13588777 10.90790232 11.18087465 10.57921129\n",
      "  10.4586     11.19639412 11.73661073 11.84598679 11.57982299 12.10852458\n",
      "  12.00034944 12.43780441 12.2627719  13.58807688 13.94485583 13.98827067\n",
      "  12.95248628 12.48481096 13.53469224 12.91089447 11.69212739 11.23966473\n",
      "  11.01000797 10.88051898]]\n"
     ]
    }
   ],
   "source": [
    "(rate, sig) = wav.read(\"female.wav\")\n",
    "mfcc_feat=mfcc(sig,rate)\n",
    "d_mfcc_feat=delta(mfcc_feat,2)\n",
    "fbank_feat=logfbank(sig,rate)\n",
    "\n",
    "print(fbank_feat[1:3,:])"
   ]
  },
  {
   "cell_type": "code",
   "execution_count": null,
   "metadata": {},
   "outputs": [],
   "source": []
  }
 ],
 "metadata": {
  "kernelspec": {
   "display_name": "Python 3",
   "language": "python",
   "name": "python3"
  },
  "language_info": {
   "codemirror_mode": {
    "name": "ipython",
    "version": 3
   },
   "file_extension": ".py",
   "mimetype": "text/x-python",
   "name": "python",
   "nbconvert_exporter": "python",
   "pygments_lexer": "ipython3",
   "version": "3.6.7"
  }
 },
 "nbformat": 4,
 "nbformat_minor": 2
}
